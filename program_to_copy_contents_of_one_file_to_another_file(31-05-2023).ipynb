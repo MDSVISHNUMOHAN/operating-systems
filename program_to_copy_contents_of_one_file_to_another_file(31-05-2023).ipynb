{
 "cells": [
  {
   "cell_type": "code",
   "execution_count": 4,
   "metadata": {},
   "outputs": [
    {
     "name": "stdout",
     "output_type": "stream",
     "text": [
      "Number of words in text file : 12\n",
      "This is the first line\n",
      "This is the second line\n",
      "This is the third line\n"
     ]
    }
   ],
   "source": [
    "\n",
    "\n",
    "\t # open both files\n",
    "with open('first.txt','r') as firstfile, open('second.txt','a') as secondfile:\n",
    "\t\n",
    "\t# read content from first file\n",
    "\tfor line in firstfile:\n",
    "\t\t\t\n",
    "\t\t\t# append content to second file\n",
    "\t\t\tsecondfile.write(line)\n",
    "\n",
    "\n",
    "file = open('second.txt', \"rt\")\n",
    "data = file.read()\n",
    "words = data.split()\n",
    "\n",
    "print('Number of words in text file :', len(words))\n",
    "\n",
    "  \n",
    "# Open the file for writing\n",
    "with open('file.txt', 'w') as f:\n",
    "\t# Define the data to be written\n",
    "\tdata = ['This is the first line', 'This is the second line', 'This is the third line']\n",
    "\t# Use a for loop to write each line of data to the file\n",
    "\tfor line in data:\n",
    "\t\tf.write(line + '\\n')\n",
    "\t\t# Optionally, print the data as it is written to the file\n",
    "\t\tprint(line)\n",
    "# The file is automatically closed when the 'with' block ends\n",
    "\n",
    "\n",
    "\n"
   ]
  }
 ],
 "metadata": {
  "kernelspec": {
   "display_name": "Python 3",
   "language": "python",
   "name": "python3"
  },
  "language_info": {
   "name": "python",
   "version": "3.10.8"
  },
  "orig_nbformat": 4
 },
 "nbformat": 4,
 "nbformat_minor": 2
}
